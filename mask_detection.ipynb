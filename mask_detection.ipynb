{
  "nbformat": 4,
  "nbformat_minor": 0,
  "metadata": {
    "colab": {
      "name": "mask_detection.ipynb",
      "provenance": [],
      "collapsed_sections": [],
      "mount_file_id": "1lhE57yrHmeU84SNl50IL07Xeo0qm4lch",
      "authorship_tag": "ABX9TyP36J64vyAbKCpU52c+Wm9D",
      "include_colab_link": true
    },
    "kernelspec": {
      "name": "python3",
      "display_name": "Python 3"
    },
    "accelerator": "GPU"
  },
  "cells": [
    {
      "cell_type": "markdown",
      "metadata": {
        "id": "view-in-github",
        "colab_type": "text"
      },
      "source": [
        "<a href=\"https://colab.research.google.com/github/sai-raman/face-mask-detection/blob/main/mask_detection.ipynb\" target=\"_parent\"><img src=\"https://colab.research.google.com/assets/colab-badge.svg\" alt=\"Open In Colab\"/></a>"
      ]
    },
    {
      "cell_type": "code",
      "metadata": {
        "id": "pJE_wG0UI8Qv"
      },
      "source": [
        "import cv2,os\n",
        "import keras\n",
        "import numpy as np\n",
        "from keras.utils import np_utils\n",
        "\n",
        "from keras.models import Sequential\n",
        "from keras.layers import Dense,Activation,Flatten,Dropout\n",
        "from keras.layers import Conv2D,MaxPooling2D\n",
        "from keras.callbacks import ModelCheckpoint\n",
        "from sklearn.model_selection import train_test_split\n"
      ],
      "execution_count": null,
      "outputs": []
    },
    {
      "cell_type": "code",
      "metadata": {
        "id": "wi7HA5B4J8M1"
      },
      "source": [
        "\n",
        "data_path='./drive/My Drive/colab_dataset/data'\n",
        "categories=os.listdir(data_path)\n",
        "labels=[i for i in range(len(categories))]\n",
        "\n",
        "label_dict=dict(zip(categories,labels))\n"
      ],
      "execution_count": null,
      "outputs": []
    },
    {
      "cell_type": "code",
      "metadata": {
        "id": "tlCHdONwKDFK",
        "outputId": "324db766-bca0-48d8-d003-0399adbcd9e1",
        "colab": {
          "base_uri": "https://localhost:8080/",
          "height": 34
        }
      },
      "source": [
        "labels\n",
        "label_dict\n",
        "categories"
      ],
      "execution_count": null,
      "outputs": [
        {
          "output_type": "execute_result",
          "data": {
            "text/plain": [
              "['with_mask', 'without_mask']"
            ]
          },
          "metadata": {
            "tags": []
          },
          "execution_count": 4
        }
      ]
    },
    {
      "cell_type": "code",
      "metadata": {
        "id": "41qdliUcKawJ"
      },
      "source": [
        "\n",
        "\n",
        "data=[]\n",
        "target=[]\n",
        "\n",
        "for category in categories:\n",
        "    folder_path=os.path.join(data_path,category)\n",
        "    img_names=os.listdir(folder_path)\n",
        "        \n",
        "    for img_name in img_names:\n",
        "        img_path=os.path.join(folder_path,img_name)\n",
        "        img=cv2.imread(img_path)\n",
        "\n",
        "        try:\n",
        "            gray=cv2.cvtColor(img,cv2.COLOR_BGR2GRAY) \n",
        "            resized=cv2.resize(gray,(100, 100))\n",
        "            data.append(resized)\n",
        "            target.append(label_dict[category])\n",
        "\n",
        "        except Exception as e:\n",
        "            print('Exception:',e)\n",
        "            "
      ],
      "execution_count": null,
      "outputs": []
    },
    {
      "cell_type": "code",
      "metadata": {
        "id": "fOoTAj2nM6gQ"
      },
      "source": [
        "data=np.array(data)/255.0\n",
        "data=np.reshape(data,(data.shape[0],100, 100,1))\n",
        "target=np.array(target)"
      ],
      "execution_count": null,
      "outputs": []
    },
    {
      "cell_type": "code",
      "metadata": {
        "id": "DtheLydmAwQI"
      },
      "source": [
        "\n",
        "new_target=np_utils.to_categorical(target)\n",
        "\n",
        "np.save('data',data)\n",
        "np.save('target',new_target)"
      ],
      "execution_count": null,
      "outputs": []
    },
    {
      "cell_type": "code",
      "metadata": {
        "id": "URL1yLdzNpSv"
      },
      "source": [
        "data=np.load('data.npy')\n",
        "target=np.load('target.npy')\n",
        "\n",
        "model=Sequential()\n",
        "\n",
        "model.add(Conv2D(100,(3,3),input_shape=data.shape[1:]))\n",
        "model.add(Activation('relu'))\n",
        "model.add(MaxPooling2D(pool_size=(2,2)))\n",
        "model.add(Conv2D(100,(3,3)))\n",
        "model.add(Activation('relu'))\n",
        "model.add(MaxPooling2D(pool_size=(2,2)))\n",
        "model.add(Flatten())\n",
        "model.add(Dropout(0.5))\n",
        "model.add(Dense(50,activation='relu'))\n",
        "model.add(Dense(2,activation='softmax'))"
      ],
      "execution_count": null,
      "outputs": []
    },
    {
      "cell_type": "code",
      "metadata": {
        "id": "-5vp5iWjN5Pk",
        "outputId": "31267382-7320-4288-8d0b-56d5c5184a4f",
        "colab": {
          "base_uri": "https://localhost:8080/",
          "height": 731
        }
      },
      "source": [
        "\n",
        "model.compile(loss='binary_crossentropy',optimizer='adam',metrics=['accuracy'])\n",
        "\n",
        "train_data,test_data,train_target,test_target=train_test_split(data,target,test_size=0.1)\n",
        "\n",
        "checkpoint = ModelCheckpoint(\n",
        "  'mask_model_latest.h5',\n",
        "  monitor='val_loss',\n",
        "  verbose=0,\n",
        "  save_best_only=True,\n",
        "  mode='auto')\n",
        "\n",
        "history=model.fit(\n",
        "  train_data,\n",
        "  train_target, \n",
        "  epochs=20,\n",
        "  callbacks=[checkpoint],\n",
        "  validation_split=0.2)\n",
        "\n",
        "print(model.evaluate(test_data,test_target))"
      ],
      "execution_count": null,
      "outputs": [
        {
          "output_type": "stream",
          "text": [
            "Epoch 1/20\n",
            "31/31 [==============================] - 2s 74ms/step - loss: 0.8017 - accuracy: 0.5434 - val_loss: 0.5872 - val_accuracy: 0.7137\n",
            "Epoch 2/20\n",
            "31/31 [==============================] - 2s 55ms/step - loss: 0.5518 - accuracy: 0.7182 - val_loss: 0.4237 - val_accuracy: 0.8306\n",
            "Epoch 3/20\n",
            "31/31 [==============================] - 2s 54ms/step - loss: 0.3669 - accuracy: 0.8475 - val_loss: 0.2720 - val_accuracy: 0.9073\n",
            "Epoch 4/20\n",
            "31/31 [==============================] - 2s 55ms/step - loss: 0.2309 - accuracy: 0.9101 - val_loss: 0.2385 - val_accuracy: 0.9113\n",
            "Epoch 5/20\n",
            "31/31 [==============================] - 2s 55ms/step - loss: 0.1614 - accuracy: 0.9495 - val_loss: 0.1519 - val_accuracy: 0.9516\n",
            "Epoch 6/20\n",
            "31/31 [==============================] - 2s 53ms/step - loss: 0.1154 - accuracy: 0.9636 - val_loss: 0.1562 - val_accuracy: 0.9355\n",
            "Epoch 7/20\n",
            "31/31 [==============================] - 2s 52ms/step - loss: 0.1113 - accuracy: 0.9586 - val_loss: 0.2544 - val_accuracy: 0.9032\n",
            "Epoch 8/20\n",
            "31/31 [==============================] - 2s 55ms/step - loss: 0.0975 - accuracy: 0.9677 - val_loss: 0.1441 - val_accuracy: 0.9395\n",
            "Epoch 9/20\n",
            "31/31 [==============================] - 2s 55ms/step - loss: 0.0599 - accuracy: 0.9859 - val_loss: 0.1120 - val_accuracy: 0.9677\n",
            "Epoch 10/20\n",
            "31/31 [==============================] - 2s 55ms/step - loss: 0.0594 - accuracy: 0.9818 - val_loss: 0.1081 - val_accuracy: 0.9758\n",
            "Epoch 11/20\n",
            "31/31 [==============================] - 2s 53ms/step - loss: 0.0471 - accuracy: 0.9838 - val_loss: 0.1231 - val_accuracy: 0.9677\n",
            "Epoch 12/20\n",
            "31/31 [==============================] - 2s 53ms/step - loss: 0.0476 - accuracy: 0.9838 - val_loss: 0.1440 - val_accuracy: 0.9556\n",
            "Epoch 13/20\n",
            "31/31 [==============================] - 2s 53ms/step - loss: 0.0301 - accuracy: 0.9909 - val_loss: 0.1331 - val_accuracy: 0.9718\n",
            "Epoch 14/20\n",
            "31/31 [==============================] - 2s 53ms/step - loss: 0.0382 - accuracy: 0.9869 - val_loss: 0.1351 - val_accuracy: 0.9677\n",
            "Epoch 15/20\n",
            "31/31 [==============================] - 2s 53ms/step - loss: 0.0274 - accuracy: 0.9929 - val_loss: 0.1888 - val_accuracy: 0.9435\n",
            "Epoch 16/20\n",
            "31/31 [==============================] - 2s 53ms/step - loss: 0.0325 - accuracy: 0.9879 - val_loss: 0.1393 - val_accuracy: 0.9677\n",
            "Epoch 17/20\n",
            "31/31 [==============================] - 2s 54ms/step - loss: 0.0121 - accuracy: 0.9990 - val_loss: 0.1499 - val_accuracy: 0.9718\n",
            "Epoch 18/20\n",
            "31/31 [==============================] - 2s 54ms/step - loss: 0.0389 - accuracy: 0.9859 - val_loss: 0.1397 - val_accuracy: 0.9758\n",
            "Epoch 19/20\n",
            "31/31 [==============================] - 2s 52ms/step - loss: 0.0443 - accuracy: 0.9869 - val_loss: 0.1450 - val_accuracy: 0.9597\n",
            "Epoch 20/20\n",
            "31/31 [==============================] - 2s 52ms/step - loss: 0.0182 - accuracy: 0.9960 - val_loss: 0.1573 - val_accuracy: 0.9637\n",
            "5/5 [==============================] - 0s 28ms/step - loss: 0.2523 - accuracy: 0.9348\n",
            "[0.25229310989379883, 0.9347826242446899]\n"
          ],
          "name": "stdout"
        }
      ]
    },
    {
      "cell_type": "code",
      "metadata": {
        "id": "xUzCbfQo2uTP"
      },
      "source": [
        "model.save('mask_model_saved.h5')"
      ],
      "execution_count": null,
      "outputs": []
    }
  ]
}